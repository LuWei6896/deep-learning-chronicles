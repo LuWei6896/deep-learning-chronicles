{
 "cells": [
  {
   "cell_type": "code",
   "execution_count": null,
   "metadata": {},
   "outputs": [],
   "source": [
    "program_url = 'http://www.wikicfp.com/cfp/program?id={}'\n",
    "event_url = 'http://www.wikicfp.com/cfp/servlet/event.showcfp?eventid={}'\n",
    "cfp_program_id = {\n",
    "    'AAAI': 3, \n",
    "    'ACL': 37, \n",
    "    'CVPR': 628, \n",
    "    'ECCV': 800, \n",
    "    'EMNLP': 883, \n",
    "    'ICASSP': 1289, \n",
    "    'ICCV': 1325, \n",
    "    'ICIP': 1390, \n",
    "    'ICLR': -1, \n",
    "    'ICML': 1421, \n",
    "    'IJCAI': 1567, \n",
    "    'NIPS': 2212\n",
    "}\n",
    "cfp_event_id = {\n",
    "    'TACL 2017': 59301\n",
    "}"
   ]
  },
  {
   "cell_type": "code",
   "execution_count": null,
   "metadata": {},
   "outputs": [],
   "source": [
    "from utils.Requests import Requests\n",
    "from utils.helpers import parse_dates\n",
    "from bs4 import BeautifulSoup as BS\n",
    "\n",
    "def get_event_data(conf):\n",
    "    id = cfp_event_id[conf]\n",
    "    if id < 0: return {}\n",
    "    \n",
    "    r = Requests()\n",
    "    text = r.get(event_url.format(id))\n",
    "    soup = BS(text, 'html.parser')\n",
    "    \n",
    "    table = soup.find_all('table')[2].find_all('table')[3].find_all('table')[1]\n",
    "    tokens = [td.text.strip() for td in table.find_all('td')]\n",
    "    \n",
    "    name = soup.find('title').text.strip()\n",
    "    date = parse_dates(tokens[0].split(' - '))\n",
    "    loca = tokens[1]\n",
    "    subm = parse_dates([tokens[4], tokens[2]])\n",
    "    \n",
    "    result[conf] = {\n",
    "        'name': name, \n",
    "        'date': date, \n",
    "        'location': loca, \n",
    "        'submission': subm\n",
    "    }\n",
    "    return result\n",
    "\n",
    "def get_program_data(conf):\n",
    "    id = cfp_program_id[conf]\n",
    "    if id < 0: return {}\n",
    "    \n",
    "    r = Requests(verbose=True)\n",
    "    text = r.get(program_url.format(id))\n",
    "    soup = BS(text, 'html.parser')\n",
    "    \n",
    "    data = []\n",
    "    for tr in soup.find_all('table')[2].find_all('table')[2].find_all('tr'):\n",
    "        texts = [td.text for td in tr.find_all('td', {'align': 'left'})]\n",
    "        a = tr.find('a')\n",
    "        if a is not None:\n",
    "            texts += [a['href']]\n",
    "        if texts != []:\n",
    "            data.append(texts)\n",
    "    print(len(data))\n",
    "    \n",
    "    result = {}\n",
    "    for i in range(0, len(data), 2):\n",
    "        conf = data[i][0]\n",
    "        name = data[i][1]\n",
    "        event_url = data[i][2]\n",
    "        date = parse_dates(data[i+1][0].split(' - '))\n",
    "        loca = data[i+1][1]\n",
    "        subm = parse_dates(data[i+1][2].strip('()').split(' ('))\n",
    "        \n",
    "        text = r.get(event_url)\n",
    "        soup = BS(text, 'html.parser')\n",
    "        url = soup.find('center').find_all('td', {'align': 'center'})[4].find('a')['href']\n",
    "        \n",
    "        result[conf] = {\n",
    "            'name': name, \n",
    "            'date': date, \n",
    "            'location': loca, \n",
    "            'submission': subm, \n",
    "            'url': url\n",
    "        }\n",
    "    return result\n",
    "\n",
    "# get_data('AAAI')"
   ]
  },
  {
   "cell_type": "code",
   "execution_count": null,
   "metadata": {},
   "outputs": [],
   "source": [
    "result = {}\n",
    "for conf, id in cfp_program_id.items():\n",
    "    result.update(get_program_data(conf))\n",
    "for conf, id in cfp_event_id.items():\n",
    "    result.update(get_event_data(conf))\n",
    "# result"
   ]
  },
  {
   "cell_type": "code",
   "execution_count": null,
   "metadata": {},
   "outputs": [],
   "source": [
    "result.keys()"
   ]
  },
  {
   "cell_type": "code",
   "execution_count": null,
   "metadata": {},
   "outputs": [],
   "source": [
    "result['CVPR 2017']"
   ]
  },
  {
   "cell_type": "code",
   "execution_count": null,
   "metadata": {},
   "outputs": [],
   "source": [
    "import json\n",
    "with open('conferences.json', 'w', encoding='utf-8') as f:\n",
    "    f.write(json.dumps(result))"
   ]
  }
 ],
 "metadata": {
  "kernelspec": {
   "display_name": "Python 3",
   "language": "python",
   "name": "python3"
  },
  "language_info": {
   "codemirror_mode": {
    "name": "ipython",
    "version": 3
   },
   "file_extension": ".py",
   "mimetype": "text/x-python",
   "name": "python",
   "nbconvert_exporter": "python",
   "pygments_lexer": "ipython3",
   "version": "3.5.2"
  }
 },
 "nbformat": 4,
 "nbformat_minor": 2
}
